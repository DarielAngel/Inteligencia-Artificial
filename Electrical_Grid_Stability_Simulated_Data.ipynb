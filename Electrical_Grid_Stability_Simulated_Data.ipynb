{
  "nbformat": 4,
  "nbformat_minor": 0,
  "metadata": {
    "colab": {
      "provenance": [],
      "authorship_tag": "ABX9TyNex+IQqaX83XHCg8eSrFjA",
      "include_colab_link": true
    },
    "kernelspec": {
      "name": "python3",
      "display_name": "Python 3"
    },
    "language_info": {
      "name": "python"
    }
  },
  "cells": [
    {
      "cell_type": "markdown",
      "metadata": {
        "id": "view-in-github",
        "colab_type": "text"
      },
      "source": [
        "<a href=\"https://colab.research.google.com/github/DarielAngel/Inteligencia-Artificial/blob/main/Electrical_Grid_Stability_Simulated_Data.ipynb\" target=\"_parent\"><img src=\"https://colab.research.google.com/assets/colab-badge.svg\" alt=\"Open In Colab\"/></a>"
      ]
    },
    {
      "cell_type": "code",
      "execution_count": 1,
      "metadata": {
        "colab": {
          "base_uri": "https://localhost:8080/"
        },
        "collapsed": true,
        "id": "dBsORsWsvNgc",
        "outputId": "25299d06-b41e-458e-a6a7-bddf5ad35db3"
      },
      "outputs": [
        {
          "output_type": "stream",
          "name": "stdout",
          "text": [
            "Collecting ucimlrepo\n",
            "  Downloading ucimlrepo-0.0.7-py3-none-any.whl.metadata (5.5 kB)\n",
            "Requirement already satisfied: pandas>=1.0.0 in /usr/local/lib/python3.11/dist-packages (from ucimlrepo) (2.2.2)\n",
            "Requirement already satisfied: certifi>=2020.12.5 in /usr/local/lib/python3.11/dist-packages (from ucimlrepo) (2024.12.14)\n",
            "Requirement already satisfied: numpy>=1.23.2 in /usr/local/lib/python3.11/dist-packages (from pandas>=1.0.0->ucimlrepo) (1.26.4)\n",
            "Requirement already satisfied: python-dateutil>=2.8.2 in /usr/local/lib/python3.11/dist-packages (from pandas>=1.0.0->ucimlrepo) (2.8.2)\n",
            "Requirement already satisfied: pytz>=2020.1 in /usr/local/lib/python3.11/dist-packages (from pandas>=1.0.0->ucimlrepo) (2024.2)\n",
            "Requirement already satisfied: tzdata>=2022.7 in /usr/local/lib/python3.11/dist-packages (from pandas>=1.0.0->ucimlrepo) (2024.2)\n",
            "Requirement already satisfied: six>=1.5 in /usr/local/lib/python3.11/dist-packages (from python-dateutil>=2.8.2->pandas>=1.0.0->ucimlrepo) (1.17.0)\n",
            "Downloading ucimlrepo-0.0.7-py3-none-any.whl (8.0 kB)\n",
            "Installing collected packages: ucimlrepo\n",
            "Successfully installed ucimlrepo-0.0.7\n"
          ]
        }
      ],
      "source": [
        "!pip3 install -U ucimlrepo"
      ]
    },
    {
      "cell_type": "markdown",
      "source": [
        "#  Electrical Grid Stability Simulated Data\n",
        "El análisis se realiza para diferentes conjuntos de valores de entrada utilizando una metodología similar a la descrita en [Schäfer, Benjamin, et al. 'Taming instabilities in power grid networks by decentralized control'. The European Physical Journal Special Topics 225.3 (2016): 569-582.]. Varios valores de entrada se mantienen iguales: tiempo promedio: 2 s; fuerza de acoplamiento: 8 s^-2; amortiguamiento: 0,1 s^-1"
      ],
      "metadata": {
        "id": "nEUX8dbPwG_R"
      }
    },
    {
      "cell_type": "code",
      "source": [
        "from ucimlrepo import fetch_ucirepo, list_available_datasets\n",
        "\n",
        "# check which datasets can be imported\n",
        "#list_available_datasets()\n",
        "\n",
        "electrical = fetch_ucirepo(id=471)\n",
        "\n",
        "print(electrical)"
      ],
      "metadata": {
        "colab": {
          "base_uri": "https://localhost:8080/"
        },
        "id": "gv7EfEnevYn_",
        "outputId": "76828276-5ea3-4edb-ab3b-fe4f202816ac"
      },
      "execution_count": 26,
      "outputs": [
        {
          "output_type": "stream",
          "name": "stdout",
          "text": [
            "{'data': {'ids': None, 'features':           tau1      tau2      tau3      tau4        p1        p2        p3  \\\n",
            "0     2.959060  3.079885  8.381025  9.780754  3.763085 -0.782604 -1.257395   \n",
            "1     9.304097  4.902524  3.047541  1.369357  5.067812 -1.940058 -1.872742   \n",
            "2     8.971707  8.848428  3.046479  1.214518  3.405158 -1.207456 -1.277210   \n",
            "3     0.716415  7.669600  4.486641  2.340563  3.963791 -1.027473 -1.938944   \n",
            "4     3.134112  7.608772  4.943759  9.857573  3.525811 -1.125531 -1.845975   \n",
            "...        ...       ...       ...       ...       ...       ...       ...   \n",
            "9995  2.930406  9.487627  2.376523  6.187797  3.343416 -0.658054 -1.449106   \n",
            "9996  3.392299  1.274827  2.954947  6.894759  4.349512 -1.663661 -0.952437   \n",
            "9997  2.364034  2.842030  8.776391  1.008906  4.299976 -1.380719 -0.943884   \n",
            "9998  9.631511  3.994398  2.757071  7.821347  2.514755 -0.966330 -0.649915   \n",
            "9999  6.530527  6.781790  4.349695  8.673138  3.492807 -1.390285 -1.532193   \n",
            "\n",
            "            p4        g1        g2        g3        g4  \n",
            "0    -1.723086  0.650456  0.859578  0.887445  0.958034  \n",
            "1    -1.255012  0.413441  0.862414  0.562139  0.781760  \n",
            "2    -0.920492  0.163041  0.766689  0.839444  0.109853  \n",
            "3    -0.997374  0.446209  0.976744  0.929381  0.362718  \n",
            "4    -0.554305  0.797110  0.455450  0.656947  0.820923  \n",
            "...        ...       ...       ...       ...       ...  \n",
            "9995 -1.236256  0.601709  0.779642  0.813512  0.608385  \n",
            "9996 -1.733414  0.502079  0.567242  0.285880  0.366120  \n",
            "9997 -1.975373  0.487838  0.986505  0.149286  0.145984  \n",
            "9998 -0.898510  0.365246  0.587558  0.889118  0.818391  \n",
            "9999 -0.570329  0.073056  0.505441  0.378761  0.942631  \n",
            "\n",
            "[10000 rows x 12 columns], 'targets':           stab     stabf\n",
            "0     0.055347  unstable\n",
            "1    -0.005957    stable\n",
            "2     0.003471  unstable\n",
            "3     0.028871  unstable\n",
            "4     0.049860  unstable\n",
            "...        ...       ...\n",
            "9995  0.023892  unstable\n",
            "9996 -0.025803    stable\n",
            "9997 -0.031810    stable\n",
            "9998  0.037789  unstable\n",
            "9999  0.045263  unstable\n",
            "\n",
            "[10000 rows x 2 columns], 'original':           tau1      tau2      tau3      tau4        p1        p2        p3  \\\n",
            "0     2.959060  3.079885  8.381025  9.780754  3.763085 -0.782604 -1.257395   \n",
            "1     9.304097  4.902524  3.047541  1.369357  5.067812 -1.940058 -1.872742   \n",
            "2     8.971707  8.848428  3.046479  1.214518  3.405158 -1.207456 -1.277210   \n",
            "3     0.716415  7.669600  4.486641  2.340563  3.963791 -1.027473 -1.938944   \n",
            "4     3.134112  7.608772  4.943759  9.857573  3.525811 -1.125531 -1.845975   \n",
            "...        ...       ...       ...       ...       ...       ...       ...   \n",
            "9995  2.930406  9.487627  2.376523  6.187797  3.343416 -0.658054 -1.449106   \n",
            "9996  3.392299  1.274827  2.954947  6.894759  4.349512 -1.663661 -0.952437   \n",
            "9997  2.364034  2.842030  8.776391  1.008906  4.299976 -1.380719 -0.943884   \n",
            "9998  9.631511  3.994398  2.757071  7.821347  2.514755 -0.966330 -0.649915   \n",
            "9999  6.530527  6.781790  4.349695  8.673138  3.492807 -1.390285 -1.532193   \n",
            "\n",
            "            p4        g1        g2        g3        g4      stab     stabf  \n",
            "0    -1.723086  0.650456  0.859578  0.887445  0.958034  0.055347  unstable  \n",
            "1    -1.255012  0.413441  0.862414  0.562139  0.781760 -0.005957    stable  \n",
            "2    -0.920492  0.163041  0.766689  0.839444  0.109853  0.003471  unstable  \n",
            "3    -0.997374  0.446209  0.976744  0.929381  0.362718  0.028871  unstable  \n",
            "4    -0.554305  0.797110  0.455450  0.656947  0.820923  0.049860  unstable  \n",
            "...        ...       ...       ...       ...       ...       ...       ...  \n",
            "9995 -1.236256  0.601709  0.779642  0.813512  0.608385  0.023892  unstable  \n",
            "9996 -1.733414  0.502079  0.567242  0.285880  0.366120 -0.025803    stable  \n",
            "9997 -1.975373  0.487838  0.986505  0.149286  0.145984 -0.031810    stable  \n",
            "9998 -0.898510  0.365246  0.587558  0.889118  0.818391  0.037789  unstable  \n",
            "9999 -0.570329  0.073056  0.505441  0.378761  0.942631  0.045263  unstable  \n",
            "\n",
            "[10000 rows x 14 columns], 'headers': Index(['tau1', 'tau2', 'tau3', 'tau4', 'p1', 'p2', 'p3', 'p4', 'g1', 'g2',\n",
            "       'g3', 'g4', 'stab', 'stabf'],\n",
            "      dtype='object')}, 'metadata': {'uci_id': 471, 'name': 'Electrical Grid Stability Simulated Data ', 'repository_url': 'https://archive.ics.uci.edu/dataset/471/electrical+grid+stability+simulated+data', 'data_url': 'https://archive.ics.uci.edu/static/public/471/data.csv', 'abstract': 'The local stability analysis of the 4-node star system (electricity producer is in the center) implementing Decentral Smart Grid Control concept. ', 'area': 'Physics and Chemistry', 'tasks': ['Classification', 'Regression'], 'characteristics': ['Multivariate'], 'num_instances': 10000, 'num_features': 12, 'feature_types': ['Real'], 'demographics': [], 'target_col': ['stab', 'stabf'], 'index_col': None, 'has_missing_values': 'no', 'missing_values_symbol': None, 'year_of_dataset_creation': 2018, 'last_updated': 'Tue Jan 09 2024', 'dataset_doi': '10.24432/C5PG66', 'creators': ['Vadim Arzamasov'], 'intro_paper': None, 'additional_info': {'summary': \"The analysis is performed for different sets of input values using the methodology similar to that described in [SchÃ¤fer, Benjamin, et al. 'Taming instabilities in power grid networks by decentralized control.' The European Physical Journal Special Topics 225.3 (2016): 569-582.]. Several input values are kept the same: averaging time: 2 s; coupling strength: 8 s^-2; damping: 0.1 s^-1\", 'purpose': None, 'funded_by': None, 'instances_represent': None, 'recommended_data_splits': None, 'sensitive_data': None, 'preprocessing_description': None, 'variable_info': '11 predictive attributes, 1 non-predictive(p1), 2 goal fields:\\r\\n1. tau[x]: reaction time of participant (real from the range [0.5,10]s). Tau1 - the value for electricity producer.\\r\\n   2. p[x]: nominal power consumed(negative)/produced(positive)(real). For consumers from the range [-0.5,-2]s^-2; p1 = abs(p2 + p3 + p4)\\r\\n   3. g[x]: coefficient (gamma) proportional to price elasticity (real from the range [0.05,1]s^-1). g1 - the value for electricity producer.\\r\\n   4. stab: the maximal real part of the characteristic equation root (if positive - the system is linearly unstable)(real)\\r\\n   5. stabf: the stability label of the system (categorical: stable/unstable)\\r\\n', 'citation': None}}, 'variables':      name     role        type demographic description units missing_values\n",
            "0    tau1  Feature  Continuous        None        None  None             no\n",
            "1    tau2  Feature  Continuous        None        None  None             no\n",
            "2    tau3  Feature  Continuous        None        None  None             no\n",
            "3    tau4  Feature  Continuous        None        None  None             no\n",
            "4      p1  Feature  Continuous        None        None  None             no\n",
            "5      p2  Feature  Continuous        None        None  None             no\n",
            "6      p3  Feature  Continuous        None        None  None             no\n",
            "7      p4  Feature  Continuous        None        None  None             no\n",
            "8      g1  Feature  Continuous        None        None  None             no\n",
            "9      g2  Feature  Continuous        None        None  None             no\n",
            "10     g3  Feature  Continuous        None        None  None             no\n",
            "11     g4  Feature  Continuous        None        None  None             no\n",
            "12   stab   Target  Continuous        None        None  None             no\n",
            "13  stabf   Target      Binary        None        None  None             no}\n"
          ]
        }
      ]
    },
    {
      "cell_type": "markdown",
      "source": [
        "# Definiendo Datos de entrenamiento y de pruebas"
      ],
      "metadata": {
        "id": "hUAav4-OwWG1"
      }
    },
    {
      "cell_type": "code",
      "source": [
        "electrical.data.original['stabf'] = electrical.data.original['stabf'].map({'stable': 0, 'unstable': 1})"
      ],
      "metadata": {
        "collapsed": true,
        "id": "9TRpLb3K2h12"
      },
      "execution_count": 42,
      "outputs": []
    },
    {
      "cell_type": "code",
      "source": [
        "from sklearn.model_selection import train_test_split\n",
        "\n",
        "entrena, prueba, entrena_clase, prueba_clase = train_test_split(electrical.data.original[[\"tau1\", \"tau2\", \"tau3\", \"tau4\", \"p1\", \"p2\", \"p3\", \"p4\", \"g1\", \"g2\",\n",
        "       \"g3\", \"g4\", \"stab\"]], electrical.data.original[\"stabf\"], test_size = 0.2)\n",
        "\n",
        "valida.shape[0]"
      ],
      "metadata": {
        "colab": {
          "base_uri": "https://localhost:8080/"
        },
        "id": "RoEov_d5wg5D",
        "outputId": "7c96395f-7dec-438f-cec0-3b490f33716f"
      },
      "execution_count": 43,
      "outputs": [
        {
          "output_type": "execute_result",
          "data": {
            "text/plain": [
              "2000"
            ]
          },
          "metadata": {},
          "execution_count": 43
        }
      ]
    },
    {
      "cell_type": "code",
      "source": [],
      "metadata": {
        "id": "ViVCQ00Y1AjH"
      },
      "execution_count": 43,
      "outputs": []
    },
    {
      "cell_type": "markdown",
      "source": [
        "# Definir el Modelo de red neuronal"
      ],
      "metadata": {
        "id": "8eARuZG6y-BS"
      }
    },
    {
      "cell_type": "code",
      "source": [
        "from tensorflow.keras.models import Sequential\n",
        "from tensorflow.keras.layers import Dense\n",
        "\n",
        "model = Sequential()\n",
        "model.add(Dense(12, input_dim=entrena.shape[1], activation='relu'))\n",
        "model.add(Dense(8, activation='relu'))\n",
        "model.add(Dense(1, activation='linear'))"
      ],
      "metadata": {
        "colab": {
          "base_uri": "https://localhost:8080/"
        },
        "id": "Mzk6lWPuzBS3",
        "outputId": "87d9f078-9315-4312-938b-6373d1dbc8cf"
      },
      "execution_count": 44,
      "outputs": [
        {
          "output_type": "stream",
          "name": "stderr",
          "text": [
            "/usr/local/lib/python3.11/dist-packages/keras/src/layers/core/dense.py:87: UserWarning: Do not pass an `input_shape`/`input_dim` argument to a layer. When using Sequential models, prefer using an `Input(shape)` object as the first layer in the model instead.\n",
            "  super().__init__(activity_regularizer=activity_regularizer, **kwargs)\n"
          ]
        }
      ]
    },
    {
      "cell_type": "code",
      "source": [
        "model.compile(optimizer='adam', loss='mean_squared_error', metrics=['mean_absolute_error'])"
      ],
      "metadata": {
        "id": "R5uArKYczOCK"
      },
      "execution_count": 45,
      "outputs": []
    },
    {
      "cell_type": "code",
      "source": [
        "history = model.fit(entrena, entrena_clase, epochs=100, batch_size=32, validation_split=0.2)"
      ],
      "metadata": {
        "colab": {
          "base_uri": "https://localhost:8080/"
        },
        "id": "XlcS40RvzQcZ",
        "outputId": "44a92ae7-8435-46fa-a93e-d7577054a387"
      },
      "execution_count": 46,
      "outputs": [
        {
          "output_type": "stream",
          "name": "stdout",
          "text": [
            "Epoch 1/100\n",
            "\u001b[1m200/200\u001b[0m \u001b[32m━━━━━━━━━━━━━━━━━━━━\u001b[0m\u001b[37m\u001b[0m \u001b[1m2s\u001b[0m 2ms/step - loss: 9.5499 - mean_absolute_error: 2.3853 - val_loss: 0.2811 - val_mean_absolute_error: 0.4293\n",
            "Epoch 2/100\n",
            "\u001b[1m200/200\u001b[0m \u001b[32m━━━━━━━━━━━━━━━━━━━━\u001b[0m\u001b[37m\u001b[0m \u001b[1m0s\u001b[0m 1ms/step - loss: 0.2725 - mean_absolute_error: 0.4275 - val_loss: 0.2245 - val_mean_absolute_error: 0.4017\n",
            "Epoch 3/100\n",
            "\u001b[1m200/200\u001b[0m \u001b[32m━━━━━━━━━━━━━━━━━━━━\u001b[0m\u001b[37m\u001b[0m \u001b[1m1s\u001b[0m 2ms/step - loss: 0.2187 - mean_absolute_error: 0.3981 - val_loss: 0.1994 - val_mean_absolute_error: 0.3803\n",
            "Epoch 4/100\n",
            "\u001b[1m200/200\u001b[0m \u001b[32m━━━━━━━━━━━━━━━━━━━━\u001b[0m\u001b[37m\u001b[0m \u001b[1m1s\u001b[0m 2ms/step - loss: 0.1986 - mean_absolute_error: 0.3815 - val_loss: 0.1889 - val_mean_absolute_error: 0.3659\n",
            "Epoch 5/100\n",
            "\u001b[1m200/200\u001b[0m \u001b[32m━━━━━━━━━━━━━━━━━━━━\u001b[0m\u001b[37m\u001b[0m \u001b[1m1s\u001b[0m 2ms/step - loss: 0.1898 - mean_absolute_error: 0.3713 - val_loss: 0.1783 - val_mean_absolute_error: 0.3542\n",
            "Epoch 6/100\n",
            "\u001b[1m200/200\u001b[0m \u001b[32m━━━━━━━━━━━━━━━━━━━━\u001b[0m\u001b[37m\u001b[0m \u001b[1m1s\u001b[0m 2ms/step - loss: 0.1798 - mean_absolute_error: 0.3598 - val_loss: 0.1679 - val_mean_absolute_error: 0.3433\n",
            "Epoch 7/100\n",
            "\u001b[1m200/200\u001b[0m \u001b[32m━━━━━━━━━━━━━━━━━━━━\u001b[0m\u001b[37m\u001b[0m \u001b[1m0s\u001b[0m 2ms/step - loss: 0.1705 - mean_absolute_error: 0.3480 - val_loss: 0.1538 - val_mean_absolute_error: 0.3289\n",
            "Epoch 8/100\n",
            "\u001b[1m200/200\u001b[0m \u001b[32m━━━━━━━━━━━━━━━━━━━━\u001b[0m\u001b[37m\u001b[0m \u001b[1m0s\u001b[0m 2ms/step - loss: 0.1565 - mean_absolute_error: 0.3352 - val_loss: 0.1391 - val_mean_absolute_error: 0.3163\n",
            "Epoch 9/100\n",
            "\u001b[1m200/200\u001b[0m \u001b[32m━━━━━━━━━━━━━━━━━━━━\u001b[0m\u001b[37m\u001b[0m \u001b[1m1s\u001b[0m 2ms/step - loss: 0.1420 - mean_absolute_error: 0.3188 - val_loss: 0.1321 - val_mean_absolute_error: 0.3049\n",
            "Epoch 10/100\n",
            "\u001b[1m200/200\u001b[0m \u001b[32m━━━━━━━━━━━━━━━━━━━━\u001b[0m\u001b[37m\u001b[0m \u001b[1m1s\u001b[0m 2ms/step - loss: 0.1309 - mean_absolute_error: 0.3071 - val_loss: 0.1269 - val_mean_absolute_error: 0.3000\n",
            "Epoch 11/100\n",
            "\u001b[1m200/200\u001b[0m \u001b[32m━━━━━━━━━━━━━━━━━━━━\u001b[0m\u001b[37m\u001b[0m \u001b[1m0s\u001b[0m 2ms/step - loss: 0.1290 - mean_absolute_error: 0.3037 - val_loss: 0.1254 - val_mean_absolute_error: 0.2951\n",
            "Epoch 12/100\n",
            "\u001b[1m200/200\u001b[0m \u001b[32m━━━━━━━━━━━━━━━━━━━━\u001b[0m\u001b[37m\u001b[0m \u001b[1m1s\u001b[0m 2ms/step - loss: 0.1267 - mean_absolute_error: 0.3007 - val_loss: 0.1188 - val_mean_absolute_error: 0.2884\n",
            "Epoch 13/100\n",
            "\u001b[1m200/200\u001b[0m \u001b[32m━━━━━━━━━━━━━━━━━━━━\u001b[0m\u001b[37m\u001b[0m \u001b[1m1s\u001b[0m 2ms/step - loss: 0.1208 - mean_absolute_error: 0.2922 - val_loss: 0.1166 - val_mean_absolute_error: 0.2863\n",
            "Epoch 14/100\n",
            "\u001b[1m200/200\u001b[0m \u001b[32m━━━━━━━━━━━━━━━━━━━━\u001b[0m\u001b[37m\u001b[0m \u001b[1m0s\u001b[0m 2ms/step - loss: 0.1189 - mean_absolute_error: 0.2909 - val_loss: 0.1130 - val_mean_absolute_error: 0.2775\n",
            "Epoch 15/100\n",
            "\u001b[1m200/200\u001b[0m \u001b[32m━━━━━━━━━━━━━━━━━━━━\u001b[0m\u001b[37m\u001b[0m \u001b[1m1s\u001b[0m 2ms/step - loss: 0.1174 - mean_absolute_error: 0.2871 - val_loss: 0.1127 - val_mean_absolute_error: 0.2796\n",
            "Epoch 16/100\n",
            "\u001b[1m200/200\u001b[0m \u001b[32m━━━━━━━━━━━━━━━━━━━━\u001b[0m\u001b[37m\u001b[0m \u001b[1m1s\u001b[0m 2ms/step - loss: 0.1135 - mean_absolute_error: 0.2827 - val_loss: 0.1107 - val_mean_absolute_error: 0.2794\n",
            "Epoch 17/100\n",
            "\u001b[1m200/200\u001b[0m \u001b[32m━━━━━━━━━━━━━━━━━━━━\u001b[0m\u001b[37m\u001b[0m \u001b[1m1s\u001b[0m 2ms/step - loss: 0.1099 - mean_absolute_error: 0.2790 - val_loss: 0.1066 - val_mean_absolute_error: 0.2743\n",
            "Epoch 18/100\n",
            "\u001b[1m200/200\u001b[0m \u001b[32m━━━━━━━━━━━━━━━━━━━━\u001b[0m\u001b[37m\u001b[0m \u001b[1m1s\u001b[0m 2ms/step - loss: 0.1056 - mean_absolute_error: 0.2728 - val_loss: 0.1036 - val_mean_absolute_error: 0.2675\n",
            "Epoch 19/100\n",
            "\u001b[1m200/200\u001b[0m \u001b[32m━━━━━━━━━━━━━━━━━━━━\u001b[0m\u001b[37m\u001b[0m \u001b[1m1s\u001b[0m 3ms/step - loss: 0.1049 - mean_absolute_error: 0.2716 - val_loss: 0.1018 - val_mean_absolute_error: 0.2632\n",
            "Epoch 20/100\n",
            "\u001b[1m200/200\u001b[0m \u001b[32m━━━━━━━━━━━━━━━━━━━━\u001b[0m\u001b[37m\u001b[0m \u001b[1m1s\u001b[0m 3ms/step - loss: 0.1018 - mean_absolute_error: 0.2653 - val_loss: 0.0977 - val_mean_absolute_error: 0.2589\n",
            "Epoch 21/100\n",
            "\u001b[1m200/200\u001b[0m \u001b[32m━━━━━━━━━━━━━━━━━━━━\u001b[0m\u001b[37m\u001b[0m \u001b[1m1s\u001b[0m 3ms/step - loss: 0.0994 - mean_absolute_error: 0.2616 - val_loss: 0.0954 - val_mean_absolute_error: 0.2538\n",
            "Epoch 22/100\n",
            "\u001b[1m200/200\u001b[0m \u001b[32m━━━━━━━━━━━━━━━━━━━━\u001b[0m\u001b[37m\u001b[0m \u001b[1m1s\u001b[0m 3ms/step - loss: 0.0977 - mean_absolute_error: 0.2590 - val_loss: 0.0939 - val_mean_absolute_error: 0.2507\n",
            "Epoch 23/100\n",
            "\u001b[1m200/200\u001b[0m \u001b[32m━━━━━━━━━━━━━━━━━━━━\u001b[0m\u001b[37m\u001b[0m \u001b[1m1s\u001b[0m 3ms/step - loss: 0.0960 - mean_absolute_error: 0.2556 - val_loss: 0.0938 - val_mean_absolute_error: 0.2486\n",
            "Epoch 24/100\n",
            "\u001b[1m200/200\u001b[0m \u001b[32m━━━━━━━━━━━━━━━━━━━━\u001b[0m\u001b[37m\u001b[0m \u001b[1m0s\u001b[0m 2ms/step - loss: 0.0939 - mean_absolute_error: 0.2523 - val_loss: 0.0943 - val_mean_absolute_error: 0.2485\n",
            "Epoch 25/100\n",
            "\u001b[1m200/200\u001b[0m \u001b[32m━━━━━━━━━━━━━━━━━━━━\u001b[0m\u001b[37m\u001b[0m \u001b[1m1s\u001b[0m 2ms/step - loss: 0.0907 - mean_absolute_error: 0.2469 - val_loss: 0.0892 - val_mean_absolute_error: 0.2459\n",
            "Epoch 26/100\n",
            "\u001b[1m200/200\u001b[0m \u001b[32m━━━━━━━━━━━━━━━━━━━━\u001b[0m\u001b[37m\u001b[0m \u001b[1m1s\u001b[0m 2ms/step - loss: 0.0886 - mean_absolute_error: 0.2438 - val_loss: 0.0866 - val_mean_absolute_error: 0.2397\n",
            "Epoch 27/100\n",
            "\u001b[1m200/200\u001b[0m \u001b[32m━━━━━━━━━━━━━━━━━━━━\u001b[0m\u001b[37m\u001b[0m \u001b[1m0s\u001b[0m 2ms/step - loss: 0.0875 - mean_absolute_error: 0.2411 - val_loss: 0.0867 - val_mean_absolute_error: 0.2374\n",
            "Epoch 28/100\n",
            "\u001b[1m200/200\u001b[0m \u001b[32m━━━━━━━━━━━━━━━━━━━━\u001b[0m\u001b[37m\u001b[0m \u001b[1m0s\u001b[0m 2ms/step - loss: 0.0833 - mean_absolute_error: 0.2342 - val_loss: 0.0839 - val_mean_absolute_error: 0.2335\n",
            "Epoch 29/100\n",
            "\u001b[1m200/200\u001b[0m \u001b[32m━━━━━━━━━━━━━━━━━━━━\u001b[0m\u001b[37m\u001b[0m \u001b[1m1s\u001b[0m 2ms/step - loss: 0.0814 - mean_absolute_error: 0.2310 - val_loss: 0.0818 - val_mean_absolute_error: 0.2306\n",
            "Epoch 30/100\n",
            "\u001b[1m200/200\u001b[0m \u001b[32m━━━━━━━━━━━━━━━━━━━━\u001b[0m\u001b[37m\u001b[0m \u001b[1m0s\u001b[0m 2ms/step - loss: 0.0824 - mean_absolute_error: 0.2339 - val_loss: 0.0795 - val_mean_absolute_error: 0.2272\n",
            "Epoch 31/100\n",
            "\u001b[1m200/200\u001b[0m \u001b[32m━━━━━━━━━━━━━━━━━━━━\u001b[0m\u001b[37m\u001b[0m \u001b[1m1s\u001b[0m 2ms/step - loss: 0.0820 - mean_absolute_error: 0.2322 - val_loss: 0.0812 - val_mean_absolute_error: 0.2274\n",
            "Epoch 32/100\n",
            "\u001b[1m200/200\u001b[0m \u001b[32m━━━━━━━━━━━━━━━━━━━━\u001b[0m\u001b[37m\u001b[0m \u001b[1m1s\u001b[0m 2ms/step - loss: 0.0783 - mean_absolute_error: 0.2262 - val_loss: 0.0763 - val_mean_absolute_error: 0.2208\n",
            "Epoch 33/100\n",
            "\u001b[1m200/200\u001b[0m \u001b[32m━━━━━━━━━━━━━━━━━━━━\u001b[0m\u001b[37m\u001b[0m \u001b[1m1s\u001b[0m 2ms/step - loss: 0.0775 - mean_absolute_error: 0.2252 - val_loss: 0.0738 - val_mean_absolute_error: 0.2180\n",
            "Epoch 34/100\n",
            "\u001b[1m200/200\u001b[0m \u001b[32m━━━━━━━━━━━━━━━━━━━━\u001b[0m\u001b[37m\u001b[0m \u001b[1m1s\u001b[0m 2ms/step - loss: 0.0748 - mean_absolute_error: 0.2197 - val_loss: 0.0770 - val_mean_absolute_error: 0.2189\n",
            "Epoch 35/100\n",
            "\u001b[1m200/200\u001b[0m \u001b[32m━━━━━━━━━━━━━━━━━━━━\u001b[0m\u001b[37m\u001b[0m \u001b[1m0s\u001b[0m 2ms/step - loss: 0.0702 - mean_absolute_error: 0.2108 - val_loss: 0.0680 - val_mean_absolute_error: 0.2072\n",
            "Epoch 36/100\n",
            "\u001b[1m200/200\u001b[0m \u001b[32m━━━━━━━━━━━━━━━━━━━━\u001b[0m\u001b[37m\u001b[0m \u001b[1m1s\u001b[0m 2ms/step - loss: 0.0716 - mean_absolute_error: 0.2126 - val_loss: 0.0665 - val_mean_absolute_error: 0.2042\n",
            "Epoch 37/100\n",
            "\u001b[1m200/200\u001b[0m \u001b[32m━━━━━━━━━━━━━━━━━━━━\u001b[0m\u001b[37m\u001b[0m \u001b[1m1s\u001b[0m 2ms/step - loss: 0.0663 - mean_absolute_error: 0.2035 - val_loss: 0.0607 - val_mean_absolute_error: 0.1939\n",
            "Epoch 38/100\n",
            "\u001b[1m200/200\u001b[0m \u001b[32m━━━━━━━━━━━━━━━━━━━━\u001b[0m\u001b[37m\u001b[0m \u001b[1m1s\u001b[0m 2ms/step - loss: 0.0629 - mean_absolute_error: 0.1967 - val_loss: 0.0573 - val_mean_absolute_error: 0.1855\n",
            "Epoch 39/100\n",
            "\u001b[1m200/200\u001b[0m \u001b[32m━━━━━━━━━━━━━━━━━━━━\u001b[0m\u001b[37m\u001b[0m \u001b[1m1s\u001b[0m 2ms/step - loss: 0.0583 - mean_absolute_error: 0.1879 - val_loss: 0.0528 - val_mean_absolute_error: 0.1765\n",
            "Epoch 40/100\n",
            "\u001b[1m200/200\u001b[0m \u001b[32m━━━━━━━━━━━━━━━━━━━━\u001b[0m\u001b[37m\u001b[0m \u001b[1m1s\u001b[0m 2ms/step - loss: 0.0546 - mean_absolute_error: 0.1780 - val_loss: 0.0550 - val_mean_absolute_error: 0.1813\n",
            "Epoch 41/100\n",
            "\u001b[1m200/200\u001b[0m \u001b[32m━━━━━━━━━━━━━━━━━━━━\u001b[0m\u001b[37m\u001b[0m \u001b[1m1s\u001b[0m 2ms/step - loss: 0.0481 - mean_absolute_error: 0.1647 - val_loss: 0.0452 - val_mean_absolute_error: 0.1572\n",
            "Epoch 42/100\n",
            "\u001b[1m200/200\u001b[0m \u001b[32m━━━━━━━━━━━━━━━━━━━━\u001b[0m\u001b[37m\u001b[0m \u001b[1m1s\u001b[0m 3ms/step - loss: 0.0469 - mean_absolute_error: 0.1596 - val_loss: 0.0439 - val_mean_absolute_error: 0.1548\n",
            "Epoch 43/100\n",
            "\u001b[1m200/200\u001b[0m \u001b[32m━━━━━━━━━━━━━━━━━━━━\u001b[0m\u001b[37m\u001b[0m \u001b[1m1s\u001b[0m 3ms/step - loss: 0.0433 - mean_absolute_error: 0.1495 - val_loss: 0.0376 - val_mean_absolute_error: 0.1395\n",
            "Epoch 44/100\n",
            "\u001b[1m200/200\u001b[0m \u001b[32m━━━━━━━━━━━━━━━━━━━━\u001b[0m\u001b[37m\u001b[0m \u001b[1m1s\u001b[0m 3ms/step - loss: 0.0390 - mean_absolute_error: 0.1406 - val_loss: 0.0375 - val_mean_absolute_error: 0.1398\n",
            "Epoch 45/100\n",
            "\u001b[1m200/200\u001b[0m \u001b[32m━━━━━━━━━━━━━━━━━━━━\u001b[0m\u001b[37m\u001b[0m \u001b[1m1s\u001b[0m 3ms/step - loss: 0.0354 - mean_absolute_error: 0.1330 - val_loss: 0.0335 - val_mean_absolute_error: 0.1259\n",
            "Epoch 46/100\n",
            "\u001b[1m200/200\u001b[0m \u001b[32m━━━━━━━━━━━━━━━━━━━━\u001b[0m\u001b[37m\u001b[0m \u001b[1m1s\u001b[0m 3ms/step - loss: 0.0356 - mean_absolute_error: 0.1305 - val_loss: 0.0303 - val_mean_absolute_error: 0.1178\n",
            "Epoch 47/100\n",
            "\u001b[1m200/200\u001b[0m \u001b[32m━━━━━━━━━━━━━━━━━━━━\u001b[0m\u001b[37m\u001b[0m \u001b[1m1s\u001b[0m 2ms/step - loss: 0.0322 - mean_absolute_error: 0.1196 - val_loss: 0.0302 - val_mean_absolute_error: 0.1213\n",
            "Epoch 48/100\n",
            "\u001b[1m200/200\u001b[0m \u001b[32m━━━━━━━━━━━━━━━━━━━━\u001b[0m\u001b[37m\u001b[0m \u001b[1m0s\u001b[0m 2ms/step - loss: 0.0296 - mean_absolute_error: 0.1158 - val_loss: 0.0266 - val_mean_absolute_error: 0.1081\n",
            "Epoch 49/100\n",
            "\u001b[1m200/200\u001b[0m \u001b[32m━━━━━━━━━━━━━━━━━━━━\u001b[0m\u001b[37m\u001b[0m \u001b[1m1s\u001b[0m 2ms/step - loss: 0.0295 - mean_absolute_error: 0.1138 - val_loss: 0.0247 - val_mean_absolute_error: 0.1007\n",
            "Epoch 50/100\n",
            "\u001b[1m200/200\u001b[0m \u001b[32m━━━━━━━━━━━━━━━━━━━━\u001b[0m\u001b[37m\u001b[0m \u001b[1m1s\u001b[0m 2ms/step - loss: 0.0259 - mean_absolute_error: 0.1065 - val_loss: 0.0273 - val_mean_absolute_error: 0.1158\n",
            "Epoch 51/100\n",
            "\u001b[1m200/200\u001b[0m \u001b[32m━━━━━━━━━━━━━━━━━━━━\u001b[0m\u001b[37m\u001b[0m \u001b[1m1s\u001b[0m 2ms/step - loss: 0.0261 - mean_absolute_error: 0.1052 - val_loss: 0.0223 - val_mean_absolute_error: 0.0933\n",
            "Epoch 52/100\n",
            "\u001b[1m200/200\u001b[0m \u001b[32m━━━━━━━━━━━━━━━━━━━━\u001b[0m\u001b[37m\u001b[0m \u001b[1m1s\u001b[0m 2ms/step - loss: 0.0261 - mean_absolute_error: 0.1036 - val_loss: 0.0229 - val_mean_absolute_error: 0.1029\n",
            "Epoch 53/100\n",
            "\u001b[1m200/200\u001b[0m \u001b[32m━━━━━━━━━━━━━━━━━━━━\u001b[0m\u001b[37m\u001b[0m \u001b[1m1s\u001b[0m 2ms/step - loss: 0.0227 - mean_absolute_error: 0.0933 - val_loss: 0.0210 - val_mean_absolute_error: 0.0875\n",
            "Epoch 54/100\n",
            "\u001b[1m200/200\u001b[0m \u001b[32m━━━━━━━━━━━━━━━━━━━━\u001b[0m\u001b[37m\u001b[0m \u001b[1m1s\u001b[0m 2ms/step - loss: 0.0210 - mean_absolute_error: 0.0908 - val_loss: 0.0234 - val_mean_absolute_error: 0.0889\n",
            "Epoch 55/100\n",
            "\u001b[1m200/200\u001b[0m \u001b[32m━━━━━━━━━━━━━━━━━━━━\u001b[0m\u001b[37m\u001b[0m \u001b[1m1s\u001b[0m 2ms/step - loss: 0.0211 - mean_absolute_error: 0.0893 - val_loss: 0.0219 - val_mean_absolute_error: 0.0995\n",
            "Epoch 56/100\n",
            "\u001b[1m200/200\u001b[0m \u001b[32m━━━━━━━━━━━━━━━━━━━━\u001b[0m\u001b[37m\u001b[0m \u001b[1m1s\u001b[0m 2ms/step - loss: 0.0218 - mean_absolute_error: 0.0903 - val_loss: 0.0169 - val_mean_absolute_error: 0.0741\n",
            "Epoch 57/100\n",
            "\u001b[1m200/200\u001b[0m \u001b[32m━━━━━━━━━━━━━━━━━━━━\u001b[0m\u001b[37m\u001b[0m \u001b[1m1s\u001b[0m 2ms/step - loss: 0.0187 - mean_absolute_error: 0.0799 - val_loss: 0.0179 - val_mean_absolute_error: 0.0805\n",
            "Epoch 58/100\n",
            "\u001b[1m200/200\u001b[0m \u001b[32m━━━━━━━━━━━━━━━━━━━━\u001b[0m\u001b[37m\u001b[0m \u001b[1m1s\u001b[0m 2ms/step - loss: 0.0203 - mean_absolute_error: 0.0841 - val_loss: 0.0177 - val_mean_absolute_error: 0.0819\n",
            "Epoch 59/100\n",
            "\u001b[1m200/200\u001b[0m \u001b[32m━━━━━━━━━━━━━━━━━━━━\u001b[0m\u001b[37m\u001b[0m \u001b[1m1s\u001b[0m 2ms/step - loss: 0.0172 - mean_absolute_error: 0.0770 - val_loss: 0.0163 - val_mean_absolute_error: 0.0694\n",
            "Epoch 60/100\n",
            "\u001b[1m200/200\u001b[0m \u001b[32m━━━━━━━━━━━━━━━━━━━━\u001b[0m\u001b[37m\u001b[0m \u001b[1m1s\u001b[0m 2ms/step - loss: 0.0175 - mean_absolute_error: 0.0742 - val_loss: 0.0150 - val_mean_absolute_error: 0.0661\n",
            "Epoch 61/100\n",
            "\u001b[1m200/200\u001b[0m \u001b[32m━━━━━━━━━━━━━━━━━━━━\u001b[0m\u001b[37m\u001b[0m \u001b[1m1s\u001b[0m 2ms/step - loss: 0.0171 - mean_absolute_error: 0.0719 - val_loss: 0.0140 - val_mean_absolute_error: 0.0632\n",
            "Epoch 62/100\n",
            "\u001b[1m200/200\u001b[0m \u001b[32m━━━━━━━━━━━━━━━━━━━━\u001b[0m\u001b[37m\u001b[0m \u001b[1m1s\u001b[0m 2ms/step - loss: 0.0182 - mean_absolute_error: 0.0756 - val_loss: 0.0147 - val_mean_absolute_error: 0.0640\n",
            "Epoch 63/100\n",
            "\u001b[1m200/200\u001b[0m \u001b[32m━━━━━━━━━━━━━━━━━━━━\u001b[0m\u001b[37m\u001b[0m \u001b[1m1s\u001b[0m 2ms/step - loss: 0.0159 - mean_absolute_error: 0.0716 - val_loss: 0.0139 - val_mean_absolute_error: 0.0677\n",
            "Epoch 64/100\n",
            "\u001b[1m200/200\u001b[0m \u001b[32m━━━━━━━━━━━━━━━━━━━━\u001b[0m\u001b[37m\u001b[0m \u001b[1m1s\u001b[0m 3ms/step - loss: 0.0160 - mean_absolute_error: 0.0692 - val_loss: 0.0133 - val_mean_absolute_error: 0.0592\n",
            "Epoch 65/100\n",
            "\u001b[1m200/200\u001b[0m \u001b[32m━━━━━━━━━━━━━━━━━━━━\u001b[0m\u001b[37m\u001b[0m \u001b[1m1s\u001b[0m 2ms/step - loss: 0.0162 - mean_absolute_error: 0.0674 - val_loss: 0.0145 - val_mean_absolute_error: 0.0629\n",
            "Epoch 66/100\n",
            "\u001b[1m200/200\u001b[0m \u001b[32m━━━━━━━━━━━━━━━━━━━━\u001b[0m\u001b[37m\u001b[0m \u001b[1m1s\u001b[0m 3ms/step - loss: 0.0155 - mean_absolute_error: 0.0667 - val_loss: 0.0132 - val_mean_absolute_error: 0.0552\n",
            "Epoch 67/100\n",
            "\u001b[1m200/200\u001b[0m \u001b[32m━━━━━━━━━━━━━━━━━━━━\u001b[0m\u001b[37m\u001b[0m \u001b[1m1s\u001b[0m 3ms/step - loss: 0.0149 - mean_absolute_error: 0.0640 - val_loss: 0.0131 - val_mean_absolute_error: 0.0610\n",
            "Epoch 68/100\n",
            "\u001b[1m200/200\u001b[0m \u001b[32m━━━━━━━━━━━━━━━━━━━━\u001b[0m\u001b[37m\u001b[0m \u001b[1m1s\u001b[0m 2ms/step - loss: 0.0132 - mean_absolute_error: 0.0597 - val_loss: 0.0172 - val_mean_absolute_error: 0.0805\n",
            "Epoch 69/100\n",
            "\u001b[1m200/200\u001b[0m \u001b[32m━━━━━━━━━━━━━━━━━━━━\u001b[0m\u001b[37m\u001b[0m \u001b[1m0s\u001b[0m 2ms/step - loss: 0.0140 - mean_absolute_error: 0.0651 - val_loss: 0.0123 - val_mean_absolute_error: 0.0613\n",
            "Epoch 70/100\n",
            "\u001b[1m200/200\u001b[0m \u001b[32m━━━━━━━━━━━━━━━━━━━━\u001b[0m\u001b[37m\u001b[0m \u001b[1m1s\u001b[0m 2ms/step - loss: 0.0147 - mean_absolute_error: 0.0644 - val_loss: 0.0112 - val_mean_absolute_error: 0.0521\n",
            "Epoch 71/100\n",
            "\u001b[1m200/200\u001b[0m \u001b[32m━━━━━━━━━━━━━━━━━━━━\u001b[0m\u001b[37m\u001b[0m \u001b[1m1s\u001b[0m 2ms/step - loss: 0.0138 - mean_absolute_error: 0.0619 - val_loss: 0.0103 - val_mean_absolute_error: 0.0536\n",
            "Epoch 72/100\n",
            "\u001b[1m200/200\u001b[0m \u001b[32m━━━━━━━━━━━━━━━━━━━━\u001b[0m\u001b[37m\u001b[0m \u001b[1m1s\u001b[0m 2ms/step - loss: 0.0128 - mean_absolute_error: 0.0584 - val_loss: 0.0122 - val_mean_absolute_error: 0.0663\n",
            "Epoch 73/100\n",
            "\u001b[1m200/200\u001b[0m \u001b[32m━━━━━━━━━━━━━━━━━━━━\u001b[0m\u001b[37m\u001b[0m \u001b[1m1s\u001b[0m 2ms/step - loss: 0.0125 - mean_absolute_error: 0.0578 - val_loss: 0.0106 - val_mean_absolute_error: 0.0473\n",
            "Epoch 74/100\n",
            "\u001b[1m200/200\u001b[0m \u001b[32m━━━━━━━━━━━━━━━━━━━━\u001b[0m\u001b[37m\u001b[0m \u001b[1m1s\u001b[0m 2ms/step - loss: 0.0127 - mean_absolute_error: 0.0548 - val_loss: 0.0115 - val_mean_absolute_error: 0.0661\n",
            "Epoch 75/100\n",
            "\u001b[1m200/200\u001b[0m \u001b[32m━━━━━━━━━━━━━━━━━━━━\u001b[0m\u001b[37m\u001b[0m \u001b[1m1s\u001b[0m 2ms/step - loss: 0.0122 - mean_absolute_error: 0.0559 - val_loss: 0.0133 - val_mean_absolute_error: 0.0680\n",
            "Epoch 76/100\n",
            "\u001b[1m200/200\u001b[0m \u001b[32m━━━━━━━━━━━━━━━━━━━━\u001b[0m\u001b[37m\u001b[0m \u001b[1m1s\u001b[0m 1ms/step - loss: 0.0121 - mean_absolute_error: 0.0569 - val_loss: 0.0144 - val_mean_absolute_error: 0.0702\n",
            "Epoch 77/100\n",
            "\u001b[1m200/200\u001b[0m \u001b[32m━━━━━━━━━━━━━━━━━━━━\u001b[0m\u001b[37m\u001b[0m \u001b[1m1s\u001b[0m 2ms/step - loss: 0.0115 - mean_absolute_error: 0.0526 - val_loss: 0.0095 - val_mean_absolute_error: 0.0504\n",
            "Epoch 78/100\n",
            "\u001b[1m200/200\u001b[0m \u001b[32m━━━━━━━━━━━━━━━━━━━━\u001b[0m\u001b[37m\u001b[0m \u001b[1m0s\u001b[0m 2ms/step - loss: 0.0114 - mean_absolute_error: 0.0509 - val_loss: 0.0102 - val_mean_absolute_error: 0.0577\n",
            "Epoch 79/100\n",
            "\u001b[1m200/200\u001b[0m \u001b[32m━━━━━━━━━━━━━━━━━━━━\u001b[0m\u001b[37m\u001b[0m \u001b[1m1s\u001b[0m 2ms/step - loss: 0.0112 - mean_absolute_error: 0.0539 - val_loss: 0.0134 - val_mean_absolute_error: 0.0781\n",
            "Epoch 80/100\n",
            "\u001b[1m200/200\u001b[0m \u001b[32m━━━━━━━━━━━━━━━━━━━━\u001b[0m\u001b[37m\u001b[0m \u001b[1m1s\u001b[0m 2ms/step - loss: 0.0125 - mean_absolute_error: 0.0547 - val_loss: 0.0088 - val_mean_absolute_error: 0.0411\n",
            "Epoch 81/100\n",
            "\u001b[1m200/200\u001b[0m \u001b[32m━━━━━━━━━━━━━━━━━━━━\u001b[0m\u001b[37m\u001b[0m \u001b[1m1s\u001b[0m 2ms/step - loss: 0.0109 - mean_absolute_error: 0.0476 - val_loss: 0.0104 - val_mean_absolute_error: 0.0625\n",
            "Epoch 82/100\n",
            "\u001b[1m200/200\u001b[0m \u001b[32m━━━━━━━━━━━━━━━━━━━━\u001b[0m\u001b[37m\u001b[0m \u001b[1m1s\u001b[0m 2ms/step - loss: 0.0109 - mean_absolute_error: 0.0490 - val_loss: 0.0085 - val_mean_absolute_error: 0.0445\n",
            "Epoch 83/100\n",
            "\u001b[1m200/200\u001b[0m \u001b[32m━━━━━━━━━━━━━━━━━━━━\u001b[0m\u001b[37m\u001b[0m \u001b[1m1s\u001b[0m 2ms/step - loss: 0.0094 - mean_absolute_error: 0.0481 - val_loss: 0.0093 - val_mean_absolute_error: 0.0495\n",
            "Epoch 84/100\n",
            "\u001b[1m200/200\u001b[0m \u001b[32m━━━━━━━━━━━━━━━━━━━━\u001b[0m\u001b[37m\u001b[0m \u001b[1m0s\u001b[0m 2ms/step - loss: 0.0152 - mean_absolute_error: 0.0636 - val_loss: 0.0076 - val_mean_absolute_error: 0.0369\n",
            "Epoch 85/100\n",
            "\u001b[1m200/200\u001b[0m \u001b[32m━━━━━━━━━━━━━━━━━━━━\u001b[0m\u001b[37m\u001b[0m \u001b[1m1s\u001b[0m 2ms/step - loss: 0.0108 - mean_absolute_error: 0.0478 - val_loss: 0.0134 - val_mean_absolute_error: 0.0826\n",
            "Epoch 86/100\n",
            "\u001b[1m200/200\u001b[0m \u001b[32m━━━━━━━━━━━━━━━━━━━━\u001b[0m\u001b[37m\u001b[0m \u001b[1m1s\u001b[0m 3ms/step - loss: 0.0106 - mean_absolute_error: 0.0535 - val_loss: 0.0090 - val_mean_absolute_error: 0.0514\n",
            "Epoch 87/100\n",
            "\u001b[1m200/200\u001b[0m \u001b[32m━━━━━━━━━━━━━━━━━━━━\u001b[0m\u001b[37m\u001b[0m \u001b[1m1s\u001b[0m 3ms/step - loss: 0.0104 - mean_absolute_error: 0.0475 - val_loss: 0.0084 - val_mean_absolute_error: 0.0338\n",
            "Epoch 88/100\n",
            "\u001b[1m200/200\u001b[0m \u001b[32m━━━━━━━━━━━━━━━━━━━━\u001b[0m\u001b[37m\u001b[0m \u001b[1m1s\u001b[0m 3ms/step - loss: 0.0095 - mean_absolute_error: 0.0441 - val_loss: 0.0064 - val_mean_absolute_error: 0.0307\n",
            "Epoch 89/100\n",
            "\u001b[1m200/200\u001b[0m \u001b[32m━━━━━━━━━━━━━━━━━━━━\u001b[0m\u001b[37m\u001b[0m \u001b[1m0s\u001b[0m 2ms/step - loss: 0.0084 - mean_absolute_error: 0.0416 - val_loss: 0.0080 - val_mean_absolute_error: 0.0407\n",
            "Epoch 90/100\n",
            "\u001b[1m200/200\u001b[0m \u001b[32m━━━━━━━━━━━━━━━━━━━━\u001b[0m\u001b[37m\u001b[0m \u001b[1m1s\u001b[0m 2ms/step - loss: 0.0096 - mean_absolute_error: 0.0456 - val_loss: 0.0079 - val_mean_absolute_error: 0.0558\n",
            "Epoch 91/100\n",
            "\u001b[1m200/200\u001b[0m \u001b[32m━━━━━━━━━━━━━━━━━━━━\u001b[0m\u001b[37m\u001b[0m \u001b[1m1s\u001b[0m 2ms/step - loss: 0.0078 - mean_absolute_error: 0.0400 - val_loss: 0.0058 - val_mean_absolute_error: 0.0300\n",
            "Epoch 92/100\n",
            "\u001b[1m200/200\u001b[0m \u001b[32m━━━━━━━━━━━━━━━━━━━━\u001b[0m\u001b[37m\u001b[0m \u001b[1m1s\u001b[0m 2ms/step - loss: 0.0097 - mean_absolute_error: 0.0453 - val_loss: 0.0068 - val_mean_absolute_error: 0.0354\n",
            "Epoch 93/100\n",
            "\u001b[1m200/200\u001b[0m \u001b[32m━━━━━━━━━━━━━━━━━━━━\u001b[0m\u001b[37m\u001b[0m \u001b[1m0s\u001b[0m 2ms/step - loss: 0.0073 - mean_absolute_error: 0.0360 - val_loss: 0.0060 - val_mean_absolute_error: 0.0307\n",
            "Epoch 94/100\n",
            "\u001b[1m200/200\u001b[0m \u001b[32m━━━━━━━━━━━━━━━━━━━━\u001b[0m\u001b[37m\u001b[0m \u001b[1m1s\u001b[0m 2ms/step - loss: 0.0087 - mean_absolute_error: 0.0426 - val_loss: 0.0061 - val_mean_absolute_error: 0.0281\n",
            "Epoch 95/100\n",
            "\u001b[1m200/200\u001b[0m \u001b[32m━━━━━━━━━━━━━━━━━━━━\u001b[0m\u001b[37m\u001b[0m \u001b[1m1s\u001b[0m 2ms/step - loss: 0.0079 - mean_absolute_error: 0.0376 - val_loss: 0.0050 - val_mean_absolute_error: 0.0270\n",
            "Epoch 96/100\n",
            "\u001b[1m200/200\u001b[0m \u001b[32m━━━━━━━━━━━━━━━━━━━━\u001b[0m\u001b[37m\u001b[0m \u001b[1m1s\u001b[0m 2ms/step - loss: 0.0074 - mean_absolute_error: 0.0344 - val_loss: 0.0054 - val_mean_absolute_error: 0.0284\n",
            "Epoch 97/100\n",
            "\u001b[1m200/200\u001b[0m \u001b[32m━━━━━━━━━━━━━━━━━━━━\u001b[0m\u001b[37m\u001b[0m \u001b[1m1s\u001b[0m 2ms/step - loss: 0.0070 - mean_absolute_error: 0.0344 - val_loss: 0.0048 - val_mean_absolute_error: 0.0277\n",
            "Epoch 98/100\n",
            "\u001b[1m200/200\u001b[0m \u001b[32m━━━━━━━━━━━━━━━━━━━━\u001b[0m\u001b[37m\u001b[0m \u001b[1m1s\u001b[0m 2ms/step - loss: 0.0069 - mean_absolute_error: 0.0354 - val_loss: 0.0052 - val_mean_absolute_error: 0.0276\n",
            "Epoch 99/100\n",
            "\u001b[1m200/200\u001b[0m \u001b[32m━━━━━━━━━━━━━━━━━━━━\u001b[0m\u001b[37m\u001b[0m \u001b[1m0s\u001b[0m 2ms/step - loss: 0.0068 - mean_absolute_error: 0.0355 - val_loss: 0.0102 - val_mean_absolute_error: 0.0484\n",
            "Epoch 100/100\n",
            "\u001b[1m200/200\u001b[0m \u001b[32m━━━━━━━━━━━━━━━━━━━━\u001b[0m\u001b[37m\u001b[0m \u001b[1m1s\u001b[0m 2ms/step - loss: 0.0079 - mean_absolute_error: 0.0454 - val_loss: 0.0058 - val_mean_absolute_error: 0.0370\n"
          ]
        }
      ]
    },
    {
      "cell_type": "markdown",
      "source": [],
      "metadata": {
        "id": "KmlH2xHV4zu-"
      }
    },
    {
      "cell_type": "code",
      "source": [
        "import matplotlib.pyplot as plt\n",
        "\n",
        "# Graficar la pérdida y el MAE durante el entrenamiento\n",
        "plt.figure(figsize=(12, 4))\n",
        "\n",
        "# Pérdida\n",
        "plt.subplot(1, 2, 1)\n",
        "plt.plot(history.history['loss'], label='Pérdida de entrenamiento')\n",
        "plt.plot(history.history['val_loss'], label='Pérdida de validación')\n",
        "plt.xlabel('Épocas')\n",
        "plt.ylabel('Pérdida')\n",
        "plt.legend()\n",
        "plt.title('Pérdida durante el entrenamiento')\n",
        "\n",
        "# MAE\n",
        "plt.subplot(1, 2, 2)\n",
        "plt.plot(history.history['mean_absolute_error'], label='MAE de entrenamiento')\n",
        "plt.plot(history.history['val_mean_absolute_error'], label='MAE de validación')\n",
        "plt.xlabel('Épocas')\n",
        "plt.ylabel('MAE')\n",
        "plt.legend()\n",
        "plt.title('MAE durante el entrenamiento')\n",
        "\n",
        "\n",
        "plt.show()"
      ],
      "metadata": {
        "colab": {
          "base_uri": "https://localhost:8080/",
          "height": 412
        },
        "id": "FrNdQUxK44c7",
        "outputId": "4839a09f-e8c6-44b5-8837-d45f6113a7e5"
      },
      "execution_count": 48,
      "outputs": [
        {
          "output_type": "display_data",
          "data": {
            "text/plain": [
              "<Figure size 1200x400 with 2 Axes>"
            ],
            "image/png": "[encoded data removed]"
          },
          "metadata": {}
        }
      ]
    },
    {
      "cell_type": "code",
      "source": [
        "from sklearn.metrics import mean_squared_error, mean_absolute_error, r2_score\n",
        "\n",
        "# Hacer predicciones\n",
        "predictions = model.predict(prueba)\n",
        "\n",
        "# Calcular MSE\n",
        "mse = mean_squared_error(prueba_clase, predictions)\n",
        "print(f'Error Cuadrático Medio (MSE): {mse}')\n",
        "\n",
        "# Calcular MAE\n",
        "mae = mean_absolute_error(prueba_clase, predictions)\n",
        "print(f'Error Absoluto Medio (MAE): {mae}')\n",
        "\n",
        "# Calcular R²\n",
        "r2 = r2_score(prueba_clase, predictions)\n",
        "print(f'Coeficiente de Determinación (R²): {r2}')"
      ],
      "metadata": {
        "colab": {
          "base_uri": "https://localhost:8080/"
        },
        "id": "JsfsVjKq5Gdy",
        "outputId": "05a0b76f-e3cd-4854-a8a7-4d898884bf69"
      },
      "execution_count": 51,
      "outputs": [
        {
          "output_type": "stream",
          "name": "stdout",
          "text": [
            "\u001b[1m63/63\u001b[0m \u001b[32m━━━━━━━━━━━━━━━━━━━━\u001b[0m\u001b[37m\u001b[0m \u001b[1m0s\u001b[0m 2ms/step\n",
            "Error Cuadrático Medio (MSE): 0.004834300838410854\n",
            "Error Absoluto Medio (MAE): 0.035415757447481155\n",
            "Coeficiente de Determinación (R²): 0.9791422486305237\n"
          ]
        }
      ]
    }
  ]
}